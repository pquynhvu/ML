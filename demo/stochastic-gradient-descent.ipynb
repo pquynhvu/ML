{
 "cells": [
  {
   "cell_type": "code",
   "execution_count": 7,
   "metadata": {},
   "outputs": [],
   "source": [
    "import numpy as np\n",
    "np.set_printoptions(suppress=True)\n",
    "\n",
    "import matplotlib.pyplot as plt\n",
    "from matplotlib import cm\n",
    "\n",
    "from mpl_toolkits import mplot3d\n",
    "from mpl_toolkits.mplot3d.axes3d import get_test_data\n",
    "\n",
    "import pandas as pd\n",
    "import seaborn as sns \n",
    "import time\n",
    "\n",
    "%run functions.ipynb"
   ]
  },
  {
   "cell_type": "code",
   "execution_count": null,
   "metadata": {},
   "outputs": [],
   "source": [
    "def feval(f, x, y):\n",
    "    return eval(f)\n",
    "\n",
    "def sgd(theta_init, n, eta, iter={}, func={}, derivative={}):         #n is number of data points\n",
    "    m = len(theta_init)\n",
    "    # One-dimension case:\n",
    "    if m == 1: \n",
    "        f=func.get('f',input('Enter the function f(x) ='))\n",
    "        df=derivative.get('df', input('Enter the function df(x) ='))\n",
    "        T = iter.get('T', eval(input()))\n",
    "    \n",
    "        t = 0\n",
    "        theta = np.array([theta_init])\n",
    "        f_ = np.array([feval(f, theta[t], 0)])\n",
    "    \n",
    "        while True:\n",
    "            t +=1\n",
    "            theta = np.append(theta, theta[t-1]-eta*feval(df, theta[t-1], 0))\n",
    "            f_ = np.append(f_,feval(f, theta[t], 0))\n",
    "            if t >= T:\n",
    "                break\n",
    "    \n",
    "    theta = np.array([theta_init])\n",
    "    \n",
    "    \n",
    "    for t in range(T):\n",
    "        i = np.random.randint(1, n, size=1)\n",
    "        theta = np.append(theta, theta[t-1] -eta*feval(f, theta[t-1], 0))\n",
    "    \n",
    "    return theta, f_"
   ]
  }
 ],
 "metadata": {
  "kernelspec": {
   "display_name": "Python 3",
   "language": "python",
   "name": "python3"
  },
  "language_info": {
   "codemirror_mode": {
    "name": "ipython",
    "version": 3
   },
   "file_extension": ".py",
   "mimetype": "text/x-python",
   "name": "python",
   "nbconvert_exporter": "python",
   "pygments_lexer": "ipython3",
   "version": "3.12.3"
  }
 },
 "nbformat": 4,
 "nbformat_minor": 2
}
