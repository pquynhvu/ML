{
 "cells": [
  {
   "cell_type": "code",
   "execution_count": 52,
   "metadata": {},
   "outputs": [],
   "source": [
    "import numpy as np\n",
    "import pandas as pd"
   ]
  },
  {
   "cell_type": "markdown",
   "metadata": {},
   "source": [
    "**Random linear classifier:**"
   ]
  },
  {
   "cell_type": "code",
   "execution_count": 58,
   "metadata": {},
   "outputs": [],
   "source": [
    "def random_linear_classifier(data, label, k):\n",
    "    n, d = data.shape\n",
    "    theta = []"
   ]
  },
  {
   "cell_type": "markdown",
   "metadata": {},
   "source": [
    "**Perceptrons:**\n",
    "\n",
    "* data: $X \\in \\mathbb{R}^{n \\times d}$ (n data points and d features)\n",
    "\n",
    "* labels: $y \\in \\mathbb{R}^{n}$"
   ]
  },
  {
   "cell_type": "code",
   "execution_count": 59,
   "metadata": {},
   "outputs": [],
   "source": [
    "def perceptron_with_offset(data, labels, tau):      # tau is the number of iterations\n",
    "    n, d = data.shape                   \n",
    "    theta = np.zeros(d).reshape(d,1)\n",
    "    theta_0 = np.zeros(1)\n",
    "    no_mistakes = 0\n",
    "\n",
    "    print(\"The data set has {} features, {} data points.\\n\".format(d,n))\n",
    "    \n",
    "    for t in range(tau):\n",
    "        changed = False\n",
    "        for i in range(n):\n",
    "            y = labels[i]\n",
    "            x = data[i,:].reshape(d, 1)\n",
    "            if np.sign(y*(np.matmul(theta.T,x) + theta_0)) <= 0:\n",
    "                no_mistakes +=1\n",
    "                theta = theta + y*x\n",
    "                theta_0 = theta_0 + y\n",
    "                changed = True\n",
    "        if changed==False:\n",
    "            no_mistakes +=0    \n",
    "            break\n",
    "    print(\"After {} mistake(s), Perceptron Algorithm (w/ offset) yields theta = {}, theta_0 = {} on the {}th instance\\n\".format(no_mistakes, theta, theta_0, i))\n",
    "    return (theta, theta_0)"
   ]
  },
  {
   "cell_type": "code",
   "execution_count": 60,
   "metadata": {},
   "outputs": [],
   "source": [
    "def perceptron_through_origin(data, labels, tau):      # tau is the number of iterations\n",
    "    n, d = data.shape    \n",
    "    data_new = np.append(data, np.ones((n, 1)), axis=1)\n",
    "    theta = np.zeros(d+1).reshape(d+1,1)\n",
    "    no_mistakes = 0\n",
    "    \n",
    "    print(\"The data set has {} features and {} data points.\\n\".format(d,n))\n",
    "    \n",
    "    for t in range(tau):\n",
    "        changed = False\n",
    "        for i in range(n):\n",
    "            y = labels[i]\n",
    "            x = data_new[i,:].reshape(d+1, 1)\n",
    "            if np.sign(y*(np.matmul(theta.T,x))) <= 0:\n",
    "                theta = theta + y*x\n",
    "                no_mistakes +=1\n",
    "                changed = True\n",
    "        if changed==False:\n",
    "            no_mistakes +=0\n",
    "            break\n",
    "    print(\"After {} mistake(s), Perceptron Algorithm (w/o offset) yields theta = {} on the {}th instance\".format(no_mistakes, theta, i))\n",
    "    return (theta)"
   ]
  },
  {
   "cell_type": "markdown",
   "metadata": {},
   "source": [
    "**Averaged Perceptron:**\n",
    "\n",
    "* Instead of using all weight vectors, use the average weight vector (i.e longer surviving weight vectors get more say)\n",
    "\n",
    "* More practical alternative and widely used"
   ]
  },
  {
   "cell_type": "code",
   "execution_count": 61,
   "metadata": {},
   "outputs": [],
   "source": [
    "def averaged_perceptron(data, labels, tau):\n",
    "    n, d = data.shape\n",
    "    theta = np.zeros((d,1))\n",
    "    theta_0 = np.zeros(1)\n",
    "    ths = np.zeros((d,1))\n",
    "    th0s = np.zeros(1)\n",
    "    no_mistakes = 0\n",
    "    print(\"The data set has {} features and {} data points \\n\".format(d,n))\n",
    "  \n",
    "    for t in range(tau):   \n",
    "      changed = False  \n",
    "      for i in range(n):\n",
    "        y = labels[i]\n",
    "        x = data[i,:].reshape(d,1)\n",
    "        \n",
    "        if np.sign(y*(np.matmul(theta.T,x) + theta_0)) <= 0:\n",
    "          theta += y*x\n",
    "          theta_0 += y\n",
    "          no_mistakes +=1\n",
    "          changed = True\n",
    "          \n",
    "        ths += theta\n",
    "        th0s += theta_0\n",
    "      if changed==False:\n",
    "        no_mistakes +=0\n",
    "        break\n",
    "        \n",
    "    print(\"After {} mistake(s), the Averaged Perceptron algorithm yields theta = {}, theta_0 = {} on the {}th instance\".format(no_mistakes, ths/(n*tau),th0s/(n*tau), i))\n",
    "    return (ths/(n*tau),th0s/(n*tau))"
   ]
  }
 ],
 "metadata": {
  "kernelspec": {
   "display_name": "Python 3",
   "language": "python",
   "name": "python3"
  },
  "language_info": {
   "codemirror_mode": {
    "name": "ipython",
    "version": 3
   },
   "file_extension": ".py",
   "mimetype": "text/x-python",
   "name": "python",
   "nbconvert_exporter": "python",
   "pygments_lexer": "ipython3",
   "version": "3.12.3"
  }
 },
 "nbformat": 4,
 "nbformat_minor": 2
}
