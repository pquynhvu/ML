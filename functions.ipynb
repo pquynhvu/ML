{
 "cells": [
  {
   "cell_type": "code",
   "execution_count": 2,
   "metadata": {},
   "outputs": [],
   "source": [
    "import numpy as np\n",
    "import pandas as pd"
   ]
  },
  {
   "cell_type": "markdown",
   "metadata": {},
   "source": [
    "**Random linear classifier:**"
   ]
  },
  {
   "cell_type": "code",
   "execution_count": null,
   "metadata": {},
   "outputs": [],
   "source": [
    "def random_linear_classifier(data, label, k):\n",
    "    n, d = data.shape\n",
    "    theta = []"
   ]
  },
  {
   "cell_type": "markdown",
   "metadata": {},
   "source": [
    "**Perceptrons:**\n",
    "\n",
    "* data: $X \\in \\mathbb{R}^{n \\times d}$ (n data points and d features)\n",
    "\n",
    "* labels: $y \\in \\mathbb{R}^{n}$"
   ]
  },
  {
   "cell_type": "code",
   "execution_count": 6,
   "metadata": {},
   "outputs": [],
   "source": [
    "def perceptron_with_offset(data, labels, tau):      # tau is the number of iterations\n",
    "    n, d = data.shape                   \n",
    "    theta = np.zeros(d).reshape(d,1)\n",
    "    theta_0 = np.zeros(1)\n",
    "    no_mistakes = 0\n",
    "\n",
    "    print(\"Implement perceptron on the data set with {} features, {} data points, and {} iterations.\".format(d,n, tau))\n",
    "    \n",
    "    for t in range(tau):\n",
    "        changed = False\n",
    "        for i in range(n):\n",
    "            y = labels[i]\n",
    "            x = data[i,:].reshape(d, 1)\n",
    "            if np.sign(y*(np.matmul(theta.T,x) + theta_0)) <= 0:\n",
    "                no_mistakes +=1\n",
    "                theta = theta + y*x\n",
    "                theta_0 = theta_0 + y\n",
    "                changed = True\n",
    "        if changed==False:\n",
    "            no_mistakes +=0    \n",
    "            break\n",
    "    print(\"After {} mistake(s), we arrive at theta = {}, theta_0 = {} on the {}th instance\".format(no_mistakes, theta, theta_0, i))\n",
    "    return (theta, theta_0)"
   ]
  },
  {
   "cell_type": "code",
   "execution_count": 7,
   "metadata": {},
   "outputs": [],
   "source": [
    "def perceptron_through_origin(data, labels, tau):      # tau is the number of iterations\n",
    "    n, d = data.shape    \n",
    "    data_new = np.append(data, np.ones((n, 1)), axis=1)\n",
    "    theta = np.zeros(d+1).reshape(d+1,1)\n",
    "    no_mistakes = 0\n",
    "    \n",
    "    print(\"Implement perceptron on the (original) data set with {} features, {} data points, and {} iterations.\".format(d,n, tau))\n",
    "    \n",
    "    for t in range(tau):\n",
    "        changed = False\n",
    "        for i in range(n):\n",
    "            y = labels[i]\n",
    "            x = data_new[i,:].reshape(d+1, 1)\n",
    "            if np.sign(y*(np.matmul(theta.T,x))) <= 0:\n",
    "                theta = theta + y*x\n",
    "                no_mistakes +=1\n",
    "                changed = True\n",
    "        if changed==False:\n",
    "            no_mistakes +=0\n",
    "            break\n",
    "    print(\"After {} mistake(s), theta = {}\".format(no_mistakes, theta))\n",
    "    return (theta)"
   ]
  }
 ],
 "metadata": {
  "kernelspec": {
   "display_name": "Python 3",
   "language": "python",
   "name": "python3"
  },
  "language_info": {
   "codemirror_mode": {
    "name": "ipython",
    "version": 3
   },
   "file_extension": ".py",
   "mimetype": "text/x-python",
   "name": "python",
   "nbconvert_exporter": "python",
   "pygments_lexer": "ipython3",
   "version": "3.12.3"
  }
 },
 "nbformat": 4,
 "nbformat_minor": 2
}
