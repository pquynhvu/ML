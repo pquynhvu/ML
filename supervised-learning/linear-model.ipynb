{
 "cells": [
  {
   "cell_type": "markdown",
   "metadata": {},
   "source": []
  },
  {
   "cell_type": "markdown",
   "metadata": {},
   "source": [
    "**II. Ridge regression**"
   ]
  },
  {
   "cell_type": "markdown",
   "metadata": {},
   "source": [
    "**III. Lasso**"
   ]
  },
  {
   "cell_type": "code",
   "execution_count": 234,
   "metadata": {},
   "outputs": [],
   "source": [
    "import numpy as np\n",
    "np.set_printoptions(suppress=True) #prevent numpy exponential notation on print\n",
    "\n",
    "import pandas as pd\n",
    "import mglearn\n",
    "\n",
    "import sklearn as sk\n",
    "from sklearn.model_selection import train_test_split\n",
    "from sklearn.linear_model import LinearRegression, Ridge\n",
    "\n",
    "%matplotlib inline\n",
    "import matplotlib.pyplot as plt\n",
    "\n",
    "from mpl_toolkits.mplot3d import Axes3D"
   ]
  },
  {
   "cell_type": "markdown",
   "metadata": {},
   "source": [
    "**1. Wave dataset**\n",
    "\n",
    "**OSL:** $y_i = \\beta_0 + \\beta_1 x_{1, i} + \\epsilon_i$ for $i = 1, 2, ..., 75$\n",
    "\n"
   ]
  },
  {
   "cell_type": "code",
   "execution_count": 237,
   "metadata": {},
   "outputs": [
    {
     "name": "stdout",
     "output_type": "stream",
     "text": [
      "Training set score: 0.61\n",
      "Test set (generalization) score: 0.62\n"
     ]
    },
    {
     "data": {
      "image/png": "[encoded data removed]",
      "text/plain": [
       "<Figure size 640x480 with 1 Axes>"
      ]
     },
     "metadata": {},
     "output_type": "display_data"
    }
   ],
   "source": [
    "X_wave, y_wave = mglearn.datasets.make_wave()\n",
    "X_wave_train, X_wave_test, y_wave_train, y_wave_test = train_test_split(X_wave, y_wave, random_state=0)\n",
    "\n",
    "lr_wave = LinearRegression().fit(X_wave_train, y_wave_train)\n",
    "\n",
    "plt.scatter(X_wave_train, y_wave_train, c = 'b', marker='.', label ='training data')\n",
    "plt.plot(X_wave_train, lr_wave.predict(X_wave_train), c = 'r', label = 'y = {0}X + {1}'.format(round(lr_wave.coef_[0], 3), round(lr_wave.intercept_, 3)))\n",
    "plt.legend()\n",
    "\n",
    "print(\"Training set score: {:.2f}\".format(lr_wave.score(X_wave_train, y_wave_train)))\n",
    "print(\"Test set (generalization) score: {:.2f}\".format(lr_wave.score(X_wave_test, y_wave_test)))"
   ]
  },
  {
   "cell_type": "markdown",
   "metadata": {},
   "source": [
    "**2. Boston Housing dataset**\n",
    "\n",
    "**OLS:** $y_i = \\beta_0 + \\beta_1 x_{1, i} + \\beta_2 x_{2, i} + \\cdots + \\beta_{13} x_{13, i} + \\epsilon_i$ for i = 1, 2, ..., 506.\n",
    "\n",
    "- *CRIM*: per capita crime rate by town\n",
    "- *ZN*: proportion of residential land zoned for lots over 25,000 sq.ft.\n",
    "- *INDUS*: proportion of non-retail business acres per town.\n",
    "- *CHAS*: Charles River dummy variable (1 if tract bounds river; 0 otherwise)\n",
    "- *NOX*: nitric oxides concentration (parts per 10 million)\n",
    "- *RM*: average number of rooms per dwelling\n",
    "- *AGE*: proportion of owner-occupied units built prior to 1940\n",
    "- *DIS*: weighted distances to five Boston employment centres\n",
    "- *RAD*: index of accessibility to radial highways\n",
    "- *TAX*: full-value property-tax rate per $10,000\n",
    "- *PTRATIO*: pupil-teacher ratio by town\n",
    "- *B*: $1000(B_k - 0.63)^2$ where $B_k$ is the proportion of blacks by town\n",
    "- *LSTAT*: % lower status of the population\n",
    "- *Outcome*: Median value of owner-occupied homes in $1000's\n",
    "\n"
   ]
  },
  {
   "cell_type": "code",
   "execution_count": 276,
   "metadata": {},
   "outputs": [
    {
     "name": "stdout",
     "output_type": "stream",
     "text": [
      "CRIM        float64\n",
      "ZN          float64\n",
      "INDUS       float64\n",
      "CHAS       category\n",
      "NOX         float64\n",
      "RM          float64\n",
      "AGE         float64\n",
      "DIS         float64\n",
      "RAD        category\n",
      "TAX         float64\n",
      "PTRATIO     float64\n",
      "B           float64\n",
      "LSTAT       float64\n",
      "dtype: object\n"
     ]
    },
    {
     "name": "stderr",
     "output_type": "stream",
     "text": [
      "C:\\Users\\pquyn\\AppData\\Local\\Packages\\PythonSoftwareFoundation.Python.3.12_qbz5n2kfra8p0\\LocalCache\\local-packages\\Python312\\site-packages\\fairlearn\\datasets\\_fetch_boston.py:135: DataFairnessWarning: You are about to use a dataset with known fairness issues.\n",
      "  warnings.warn(DataFairnessWarning(msg))\n"
     ]
    }
   ],
   "source": [
    "from fairlearn.datasets import fetch_boston\n",
    "X_boston, y_boston = fetch_boston(return_X_y = True)\n",
    "\n",
    "print(X_boston.dtypes) # check the data types of the columns\n",
    "X_boston['CHAS'] = X_boston['CHAS'].astype(float)\n",
    "X_boston['RAD'] = X_boston['RAD'].astype(float)"
   ]
  },
  {
   "cell_type": "markdown",
   "metadata": {},
   "source": [
    "The discrepancy between performance on the training set and the test set is a clear sign of overfitting"
   ]
  },
  {
   "cell_type": "code",
   "execution_count": 283,
   "metadata": {},
   "outputs": [
    {
     "name": "stdout",
     "output_type": "stream",
     "text": [
      "Training set score: 0.77\n",
      "Test set (generalization) score: 0.64\n"
     ]
    },
    {
     "data": {
      "text/html": [
       "<div>\n",
       "<style scoped>\n",
       "    .dataframe tbody tr th:only-of-type {\n",
       "        vertical-align: middle;\n",
       "    }\n",
       "\n",
       "    .dataframe tbody tr th {\n",
       "        vertical-align: top;\n",
       "    }\n",
       "\n",
       "    .dataframe thead th {\n",
       "        text-align: right;\n",
       "    }\n",
       "</style>\n",
       "<table border=\"1\" class=\"dataframe\">\n",
       "  <thead>\n",
       "    <tr style=\"text-align: right;\">\n",
       "      <th></th>\n",
       "      <th>predictors</th>\n",
       "      <th>lr_betas_hat</th>\n",
       "    </tr>\n",
       "  </thead>\n",
       "  <tbody>\n",
       "    <tr>\n",
       "      <th>0</th>\n",
       "      <td>CRIM</td>\n",
       "      <td>-0.117735</td>\n",
       "    </tr>\n",
       "    <tr>\n",
       "      <th>1</th>\n",
       "      <td>ZN</td>\n",
       "      <td>0.044017</td>\n",
       "    </tr>\n",
       "    <tr>\n",
       "      <th>2</th>\n",
       "      <td>INDUS</td>\n",
       "      <td>-0.005768</td>\n",
       "    </tr>\n",
       "    <tr>\n",
       "      <th>3</th>\n",
       "      <td>CHAS</td>\n",
       "      <td>2.393416</td>\n",
       "    </tr>\n",
       "    <tr>\n",
       "      <th>4</th>\n",
       "      <td>NOX</td>\n",
       "      <td>-15.589421</td>\n",
       "    </tr>\n",
       "    <tr>\n",
       "      <th>5</th>\n",
       "      <td>RM</td>\n",
       "      <td>3.768968</td>\n",
       "    </tr>\n",
       "    <tr>\n",
       "      <th>6</th>\n",
       "      <td>AGE</td>\n",
       "      <td>-0.007035</td>\n",
       "    </tr>\n",
       "    <tr>\n",
       "      <th>7</th>\n",
       "      <td>DIS</td>\n",
       "      <td>-1.434956</td>\n",
       "    </tr>\n",
       "    <tr>\n",
       "      <th>8</th>\n",
       "      <td>RAD</td>\n",
       "      <td>0.240081</td>\n",
       "    </tr>\n",
       "    <tr>\n",
       "      <th>9</th>\n",
       "      <td>TAX</td>\n",
       "      <td>-0.011297</td>\n",
       "    </tr>\n",
       "    <tr>\n",
       "      <th>10</th>\n",
       "      <td>PTRATIO</td>\n",
       "      <td>-0.985547</td>\n",
       "    </tr>\n",
       "    <tr>\n",
       "      <th>11</th>\n",
       "      <td>B</td>\n",
       "      <td>0.008444</td>\n",
       "    </tr>\n",
       "    <tr>\n",
       "      <th>12</th>\n",
       "      <td>LSTAT</td>\n",
       "      <td>-0.499117</td>\n",
       "    </tr>\n",
       "  </tbody>\n",
       "</table>\n",
       "</div>"
      ],
      "text/plain": [
       "   predictors  lr_betas_hat\n",
       "0        CRIM     -0.117735\n",
       "1          ZN      0.044017\n",
       "2       INDUS     -0.005768\n",
       "3        CHAS      2.393416\n",
       "4         NOX    -15.589421\n",
       "5          RM      3.768968\n",
       "6         AGE     -0.007035\n",
       "7         DIS     -1.434956\n",
       "8         RAD      0.240081\n",
       "9         TAX     -0.011297\n",
       "10    PTRATIO     -0.985547\n",
       "11          B      0.008444\n",
       "12      LSTAT     -0.499117"
      ]
     },
     "metadata": {},
     "output_type": "display_data"
    }
   ],
   "source": [
    "X_boston_train, X_boston_test, y_boston_train, y_boston_test = train_test_split(X_boston, y_boston, random_state=0)\n",
    "lr_boston = LinearRegression().fit(X_boston_train, y_boston_train)\n",
    "\n",
    "print(\"Training set score: {:.2f}\".format(lr_boston.score(X_boston_train, y_boston_train)))\n",
    "print(\"Test set (generalization) score: {:.2f}\".format(lr_boston.score(X_boston_test, y_boston_test)))\n",
    "\n",
    "boston_betas = pd.DataFrame(list(X_boston), columns=['predictors'])\n",
    "boston_betas = boston_betas.assign(lr_betas_hat = lr_boston.coef_)\n",
    "display(boston_betas)"
   ]
  },
  {
   "cell_type": "markdown",
   "metadata": {},
   "source": [
    "**Ridge regression:**"
   ]
  },
  {
   "cell_type": "code",
   "execution_count": 284,
   "metadata": {},
   "outputs": [
    {
     "name": "stdout",
     "output_type": "stream",
     "text": [
      "Training set score: 0.77\n",
      "Test set score: 0.63\n"
     ]
    },
    {
     "data": {
      "text/html": [
       "<div>\n",
       "<style scoped>\n",
       "    .dataframe tbody tr th:only-of-type {\n",
       "        vertical-align: middle;\n",
       "    }\n",
       "\n",
       "    .dataframe tbody tr th {\n",
       "        vertical-align: top;\n",
       "    }\n",
       "\n",
       "    .dataframe thead th {\n",
       "        text-align: right;\n",
       "    }\n",
       "</style>\n",
       "<table border=\"1\" class=\"dataframe\">\n",
       "  <thead>\n",
       "    <tr style=\"text-align: right;\">\n",
       "      <th></th>\n",
       "      <th>predictors</th>\n",
       "      <th>lr_betas_hat</th>\n",
       "      <th>ridge_betas_hat</th>\n",
       "    </tr>\n",
       "  </thead>\n",
       "  <tbody>\n",
       "    <tr>\n",
       "      <th>0</th>\n",
       "      <td>CRIM</td>\n",
       "      <td>-0.117735</td>\n",
       "      <td>-0.114786</td>\n",
       "    </tr>\n",
       "    <tr>\n",
       "      <th>1</th>\n",
       "      <td>ZN</td>\n",
       "      <td>0.044017</td>\n",
       "      <td>0.045418</td>\n",
       "    </tr>\n",
       "    <tr>\n",
       "      <th>2</th>\n",
       "      <td>INDUS</td>\n",
       "      <td>-0.005768</td>\n",
       "      <td>-0.035403</td>\n",
       "    </tr>\n",
       "    <tr>\n",
       "      <th>3</th>\n",
       "      <td>CHAS</td>\n",
       "      <td>2.393416</td>\n",
       "      <td>2.303291</td>\n",
       "    </tr>\n",
       "    <tr>\n",
       "      <th>4</th>\n",
       "      <td>NOX</td>\n",
       "      <td>-15.589421</td>\n",
       "      <td>-8.127445</td>\n",
       "    </tr>\n",
       "    <tr>\n",
       "      <th>5</th>\n",
       "      <td>RM</td>\n",
       "      <td>3.768968</td>\n",
       "      <td>3.806341</td>\n",
       "    </tr>\n",
       "    <tr>\n",
       "      <th>6</th>\n",
       "      <td>AGE</td>\n",
       "      <td>-0.007035</td>\n",
       "      <td>-0.014282</td>\n",
       "    </tr>\n",
       "    <tr>\n",
       "      <th>7</th>\n",
       "      <td>DIS</td>\n",
       "      <td>-1.434956</td>\n",
       "      <td>-1.336939</td>\n",
       "    </tr>\n",
       "    <tr>\n",
       "      <th>8</th>\n",
       "      <td>RAD</td>\n",
       "      <td>0.240081</td>\n",
       "      <td>0.216748</td>\n",
       "    </tr>\n",
       "    <tr>\n",
       "      <th>9</th>\n",
       "      <td>TAX</td>\n",
       "      <td>-0.011297</td>\n",
       "      <td>-0.011755</td>\n",
       "    </tr>\n",
       "    <tr>\n",
       "      <th>10</th>\n",
       "      <td>PTRATIO</td>\n",
       "      <td>-0.985547</td>\n",
       "      <td>-0.903937</td>\n",
       "    </tr>\n",
       "    <tr>\n",
       "      <th>11</th>\n",
       "      <td>B</td>\n",
       "      <td>0.008444</td>\n",
       "      <td>0.008813</td>\n",
       "    </tr>\n",
       "    <tr>\n",
       "      <th>12</th>\n",
       "      <td>LSTAT</td>\n",
       "      <td>-0.499117</td>\n",
       "      <td>-0.507425</td>\n",
       "    </tr>\n",
       "  </tbody>\n",
       "</table>\n",
       "</div>"
      ],
      "text/plain": [
       "   predictors  lr_betas_hat  ridge_betas_hat\n",
       "0        CRIM     -0.117735        -0.114786\n",
       "1          ZN      0.044017         0.045418\n",
       "2       INDUS     -0.005768        -0.035403\n",
       "3        CHAS      2.393416         2.303291\n",
       "4         NOX    -15.589421        -8.127445\n",
       "5          RM      3.768968         3.806341\n",
       "6         AGE     -0.007035        -0.014282\n",
       "7         DIS     -1.434956        -1.336939\n",
       "8         RAD      0.240081         0.216748\n",
       "9         TAX     -0.011297        -0.011755\n",
       "10    PTRATIO     -0.985547        -0.903937\n",
       "11          B      0.008444         0.008813\n",
       "12      LSTAT     -0.499117        -0.507425"
      ]
     },
     "metadata": {},
     "output_type": "display_data"
    }
   ],
   "source": [
    "ridge_boston = Ridge().fit(X_boston_train, y_boston_train)\n",
    "\n",
    "print(\"Training set score: {:.2f}\".format(ridge_boston.score(X_boston_train, y_boston_train)))\n",
    "print(\"Test set score: {:.2f}\".format(ridge_boston.score(X_boston_test, y_boston_test)))\n",
    "\n",
    "boston_betas = boston_betas.assign(ridge_betas_hat = ridge_boston.coef_)\n",
    "display(boston_betas)"
   ]
  },
  {
   "cell_type": "markdown",
   "metadata": {},
   "source": [
    "Increasing alpha forces coefficients to move more toward zero, which decreases training set performance but might help generalization."
   ]
  },
  {
   "cell_type": "code",
   "execution_count": 286,
   "metadata": {},
   "outputs": [
    {
     "name": "stdout",
     "output_type": "stream",
     "text": [
      "Training set score: 0.76\n",
      "Test set score: 0.61\n"
     ]
    }
   ],
   "source": [
    "ridge10_boston = Ridge(alpha=10).fit(X_boston_train, y_boston_train)\n",
    "print(\"Training set score: {:.2f}\".format(ridge10_boston.score(X_boston_train, y_boston_train)))\n",
    "print(\"Test set score: {:.2f}\".format(ridge10_boston.score(X_boston_test, y_boston_test)))"
   ]
  },
  {
   "cell_type": "code",
   "execution_count": 287,
   "metadata": {},
   "outputs": [
    {
     "name": "stdout",
     "output_type": "stream",
     "text": [
      "Training set score: 0.77\n",
      "Test set score: 0.63\n"
     ]
    }
   ],
   "source": [
    "ridge01_boston = Ridge(alpha=0.1).fit(X_boston_train, y_boston_train)\n",
    "print(\"Training set score: {:.2f}\".format(ridge01_boston.score(X_boston_train, y_boston_train)))\n",
    "print(\"Test set score: {:.2f}\".format(ridge01_boston.score(X_boston_test, y_boston_test)))"
   ]
  },
  {
   "cell_type": "markdown",
   "metadata": {},
   "source": [
    "A higher alpha means a more restricted model, so we expect the estimated coefficients to have smaller magnitude for a high value of alpha than for a low value of alpha"
   ]
  },
  {
   "cell_type": "code",
   "execution_count": 289,
   "metadata": {},
   "outputs": [
    {
     "data": {
      "text/plain": [
       "<matplotlib.legend.Legend at 0x1e1a0f3b110>"
      ]
     },
     "execution_count": 289,
     "metadata": {},
     "output_type": "execute_result"
    },
    {
     "data": {
      "image/png": "[encoded data removed]",
      "text/plain": [
       "<Figure size 640x480 with 1 Axes>"
      ]
     },
     "metadata": {},
     "output_type": "display_data"
    }
   ],
   "source": [
    "plt.plot(ridge_boston.coef_, 's', label=\"Ridge alpha=1\")\n",
    "plt.plot(ridge10_boston.coef_, '^', label=\"Ridge alpha=10\")\n",
    "plt.plot(ridge01_boston.coef_, 'v', label=\"Ridge alpha=0.1\")\n",
    "plt.plot(lr_boston.coef_, 'o', label=\"Linear Regression\")\n",
    "plt.xlabel(\"Coefficient index\")\n",
    "plt.ylabel(\"Coefficient magnitude\")\n",
    "plt.hlines(0, 0, len(lr_boston.coef_))\n",
    "plt.ylim(-25, 25)\n",
    "plt.legend()"
   ]
  },
  {
   "cell_type": "markdown",
   "metadata": {},
   "source": [
    "The training score is higher than the test score for all dataset sizes, for both ridge and linear regression. Because ridge is regularized, the training score of ridge is lower than the training score for linear regression across the board. However, the test score for ridge is better, particularly for small subsets of the data. The lesson here is that with enough training data, regularization becomes less important, and given enough data, and ridge linear regression will have the same performance."
   ]
  },
  {
   "cell_type": "code",
   "execution_count": 290,
   "metadata": {},
   "outputs": [
    {
     "data": {
      "image/png": "[encoded data removed]",
      "text/plain": [
       "<Figure size 640x480 with 1 Axes>"
      ]
     },
     "metadata": {},
     "output_type": "display_data"
    }
   ],
   "source": [
    "mglearn.plots.plot_ridge_n_samples()"
   ]
  }
 ],
 "metadata": {
  "kernelspec": {
   "display_name": "Python 3",
   "language": "python",
   "name": "python3"
  },
  "language_info": {
   "codemirror_mode": {
    "name": "ipython",
    "version": 3
   },
   "file_extension": ".py",
   "mimetype": "text/x-python",
   "name": "python",
   "nbconvert_exporter": "python",
   "pygments_lexer": "ipython3",
   "version": "3.12.3"
  }
 },
 "nbformat": 4,
 "nbformat_minor": 2
}
